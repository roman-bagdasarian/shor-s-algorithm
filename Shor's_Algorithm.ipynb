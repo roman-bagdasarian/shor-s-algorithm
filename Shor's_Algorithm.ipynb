{
  "nbformat": 4,
  "nbformat_minor": 0,
  "metadata": {
    "colab": {
      "provenance": []
    },
    "kernelspec": {
      "name": "python3",
      "display_name": "Python 3"
    },
    "language_info": {
      "name": "python"
    }
  },
  "cells": [
    {
      "cell_type": "code",
      "source": [
        "#installation stuff\n",
        "!pip install qiskit #2.0.0 let's try\n",
        "!pip install qiskit-aer\n",
        "import qiskit\n",
        "print(qiskit.__version__)\n",
        "from math import pi\n",
        "!pip install --upgrade pip\n",
        "!pip install qiskit==1.4.3\n",
        "!pip install qiskit-terra qiskit-aer qiskit-visualization\n",
        "!pip install numpy matplotlib"
      ],
      "metadata": {
        "id": "C_4l_ZWjVJPk"
      },
      "execution_count": null,
      "outputs": []
    },
    {
      "cell_type": "code",
      "source": [
        "#to-do time stuff\n",
        "import time\n",
        "start = time.time() #before exec\n",
        "end = time.time() #after result\n",
        "total_time += (end - start)\n",
        "print(f\"time elapsed {total_time}s\")"
      ],
      "metadata": {
        "id": "xM5HN3GeU_dP"
      },
      "execution_count": null,
      "outputs": []
    },
    {
      "cell_type": "code",
      "source": [
        "#to-do benchmarking stuff\n",
        "t_num_qubits = qc.num_qubits\n",
        "t_num_gates = qc.size()\n",
        "print(f\"circuit consists of {t_num_qubits} qubits, and {t_num_gates} gates\")"
      ],
      "metadata": {
        "id": "RliFrh18VA6N"
      },
      "execution_count": null,
      "outputs": []
    },
    {
      "cell_type": "code",
      "execution_count": null,
      "metadata": {
        "id": "zZsBZQASAd4X"
      },
      "outputs": [],
      "source": [
        "#import stuff\n",
        "from qiskit.primitives import Sampler\n",
        "from qiskit_aer import AerSimulator\n",
        "import random\n",
        "import math\n",
        "from qiskit import QuantumCircuit\n",
        "import matplotlib.pyplot as plt\n",
        "import numpy as np\n",
        "import random\n",
        "import math\n",
        "from qiskit import transpile\n",
        "from qiskit.visualization import plot_histogram\n",
        "semiprimes = {5: 21}\n",
        "results = {}"
      ]
    },
    {
      "cell_type": "code",
      "source": [
        "#iqft\n",
        "def qft_dagger(n):\n",
        "    qc = QuantumCircuit(n)\n",
        "    for qubit in range(n//2):\n",
        "        qc.swap(qubit, n-qubit-1)\n",
        "    for j in range(n):\n",
        "        for m in range(j):\n",
        "            qc.cp(-np.pi/float(2**(j-m)), m, j)\n",
        "        qc.h(j)\n",
        "    return qc"
      ],
      "metadata": {
        "id": "8-_BBrOtVmJf"
      },
      "execution_count": null,
      "outputs": []
    },
    {
      "cell_type": "code",
      "source": [
        "#amod\n",
        "def amodN(a, power, N, n_count):\n",
        "    U = QuantumCircuit(n_count)\n",
        "    for i in range(n_count):\n",
        "        U.h(i)\n",
        "    for j in range(n_count):\n",
        "        a_mod_exp = pow(a, 2**j, N)\n",
        "        phase_value = 2 * np.pi * a_mod_exp / N\n",
        "        for q in range(n_count):\n",
        "            U.p(phase_value, q)\n",
        "    U = U.to_gate()\n",
        "    c_U = U.control()\n",
        "    return c_U"
      ],
      "metadata": {
        "id": "p9cd2A7zVqRz"
      },
      "execution_count": null,
      "outputs": []
    },
    {
      "cell_type": "code",
      "source": [
        "#main part\n",
        "for index, (_, N) in enumerate(semiprimes.items()):\n",
        "    total_time = 0\n",
        "    times = 0\n",
        "    used_a = []\n",
        "    while True:\n",
        "        times += 1\n",
        "        p_f, q_f = 1, 1\n",
        "        a = random.randint(2, N-2)\n",
        "        if a in used_a:\n",
        "            break\n",
        "        print(f\"for a = {a}\")\n",
        "        if math.gcd(a, N) > 1:\n",
        "            p_f = math.gcd(a, N)\n",
        "            q_f = N // p_f\n",
        "            break\n",
        "\n",
        "        n_qubits = (N.bit_length()  // 2 ) - 1\n",
        "        qc = QuantumCircuit(2 * n_qubits, n_qubits)\n",
        "        for q in range(n_qubits):\n",
        "            qc.h(q)\n",
        "        qc.x(n_qubits * 2 - 1)\n",
        "\n",
        "        for q in range(n_qubits):\n",
        "            qc.append(amodN(a, 2**q, N, n_qubits), [q] + [i + n_qubits for i in range(n_qubits)])\n",
        "        qc.append(qft_dagger(n_qubits), range(n_qubits))\n",
        "        qc.measure(range(n_qubits), range(n_qubits))\n",
        "\n",
        "        #simulations\n",
        "        shots = 1024\n",
        "        mybackend = AerSimulator()\n",
        "        qc_transpiled = transpile(qc, mybackend, initial_layout=[i for i in range(qc.num_qubits)])\n",
        "        job = mybackend.run(qc_transpiled, shots=shots)\n",
        "        result = job.result()\n",
        "        counts = result.get_counts()\n",
        "\n",
        "        r = int(max(counts, key=counts.get), 2)\n",
        "        factor1 = math.gcd(a**(r//2) - 1, N)\n",
        "        factor2 = math.gcd(a**(r//2) + 1, N)\n",
        "        if factor1 == 1 and factor2 > 1:\n",
        "            p_f = factor2\n",
        "            q_f = N // factor2\n",
        "        elif factor1 > 1 and factor2 == 1:\n",
        "            p_f = factor1\n",
        "            q_f = N // factor1\n",
        "\n",
        "        if p_f != 1 and q_f != 1 and p_f * q_f == N:\n",
        "            break\n",
        "\n",
        "        used_a.append(a)\n",
        "\n",
        "    print(f\"Factorized {N} into {p_f}, {q_f}\")\n",
        "    print(\"*\" * 10)\n",
        "    results[N] = [(p_f, q_f), times, total_time]"
      ],
      "metadata": {
        "id": "5NWJJfcaVtmo"
      },
      "execution_count": null,
      "outputs": []
    },
    {
      "cell_type": "code",
      "source": [
        "#visualize\n",
        "plot_histogram(counts)"
      ],
      "metadata": {
        "id": "SByD85IxV0Zd"
      },
      "execution_count": null,
      "outputs": []
    },
    {
      "cell_type": "code",
      "source": [
        "#clean up\n",
        "del q, c, qc\n",
        "del result\n",
        "del job"
      ],
      "metadata": {
        "id": "eCzf3_8DV3ga"
      },
      "execution_count": null,
      "outputs": []
    },
    {
      "cell_type": "code",
      "source": [
        "#ayo's code\n",
        "def qft(qc, num_qubits):\n",
        "  for i in range(num_qubits - 1):\n",
        "    qc.h(i)\n",
        "    for k in range(2 + i, num_qubits + 1):\n",
        "      qc.cp(2 * pi / (2 ** k), k - 1, i)\n",
        "  qc.h(num_qubits - 1)\n",
        "\n",
        "  for j in range(num_qubits // 2):\n",
        "    qc.swap(j, num_qubits - 1 - j)\n",
        "\n",
        "for i in range(m):\n",
        "  qc.h(i)\n",
        "qc.x(m)\n",
        "qc.h(m)\n",
        "\n",
        "for j in range(m - 1, -1, -1):\n",
        "  for k in range(2 ** (m - 1 - j)):\n",
        "    qc.cx(j, m)\n",
        "# Inverse QFT part\n",
        "iqft(qc, m)\n",
        "\n",
        "for i in range(m):\n",
        "  qc.measure(i, i)"
      ],
      "metadata": {
        "id": "B18B2D-cVVyq"
      },
      "execution_count": null,
      "outputs": []
    }
  ]
}